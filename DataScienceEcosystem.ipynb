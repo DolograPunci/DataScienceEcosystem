{
 "cells": [
  {
   "cell_type": "markdown",
   "id": "3214d847-0c89-4d93-bac1-b4ecd064ee06",
   "metadata": {},
   "source": [
    "# Data Science Tools and Ecosystem\n",
    "\n"
   ]
  },
  {
   "cell_type": "markdown",
   "id": "13fc94da-634c-40cb-b5af-398f3b6dcb56",
   "metadata": {},
   "source": [
    "In this notebook, Data Science Tools and Ecosystem are summarized."
   ]
  },
  {
   "cell_type": "markdown",
   "id": "f9ae4bf9-53b3-4803-bdf0-a81f4f322a77",
   "metadata": {},
   "source": [
    "**Objectives**\n",
    "\n",
    "- Commonly used libraries by Data Scientists\n",
    "- List of popular languages for Data Science\n",
    "- Data Science tools"
   ]
  },
  {
   "cell_type": "markdown",
   "id": "cc330420-a2db-4e6e-a871-9c13f7ab2040",
   "metadata": {},
   "source": [
    "Some of the popular languages that Data Scientists use are:\n",
    "\n",
    "1. Python\n",
    "2. SQL\n",
    "3. R\n",
    "4. Java\n",
    "5. Scala"
   ]
  },
  {
   "cell_type": "markdown",
   "id": "a619ac64-6f4d-45f2-99cd-929d19df8d22",
   "metadata": {},
   "source": [
    "Some of the commonly used libraries used by Data Scientists include:\n",
    "\n",
    "1. Numpy\n",
    "2. Pandas\n",
    "3. Matplotlib\n",
    "4. SciPy\n",
    "5. PyTorch"
   ]
  },
  {
   "cell_type": "markdown",
   "id": "52280f51-bfe9-4377-b46a-4bff8a1f3921",
   "metadata": {},
   "source": [
    "| Data Science Tools |\n",
    "| ------------------ |\n",
    "| NumPy |\n",
    "| TensorFlow |\n",
    "| PyTorch |"
   ]
  },
  {
   "cell_type": "markdown",
   "id": "54538de0-01d5-4d15-87ae-4cd46c5e8d53",
   "metadata": {},
   "source": [
    "### Below are a few examples of evaluating arithmetic expressions in Python\r\n"
   ]
  },
  {
   "cell_type": "code",
   "execution_count": 16,
   "id": "aae9c8b8-867a-42c1-9ca6-4a413ed6b80e",
   "metadata": {},
   "outputs": [
    {
     "name": "stdout",
     "output_type": "stream",
     "text": [
      "This a simple arithmetic expression to mutiply then add integers\n"
     ]
    },
    {
     "data": {
      "text/plain": [
       "17"
      ]
     },
     "execution_count": 16,
     "metadata": {},
     "output_type": "execute_result"
    }
   ],
   "source": [
    "print(\"This a simple arithmetic expression to mutiply then add integers\")\n",
    "(3*4)+5"
   ]
  },
  {
   "cell_type": "code",
   "execution_count": 17,
   "id": "9a34f0dc-c3ea-4f97-99bf-93abf6f8e5eb",
   "metadata": {},
   "outputs": [
    {
     "name": "stdout",
     "output_type": "stream",
     "text": [
      "This will convert 200 minutes to hours by diving by 60\n"
     ]
    },
    {
     "data": {
      "text/plain": [
       "3.3333333333333335"
      ]
     },
     "execution_count": 17,
     "metadata": {},
     "output_type": "execute_result"
    }
   ],
   "source": [
    "print(\"This will convert 200 minutes to hours by diving by 60\")\n",
    "200/60"
   ]
  },
  {
   "cell_type": "code",
   "execution_count": null,
   "id": "aa370427-2d8f-48c9-8933-b0b0ee19161a",
   "metadata": {},
   "outputs": [],
   "source": []
  },
  {
   "cell_type": "markdown",
   "id": "ed86816d-d079-443d-b490-f05d47e4d720",
   "metadata": {},
   "source": [
    "## Author\n",
    "Bernadett Opauszki"
   ]
  },
  {
   "cell_type": "code",
   "execution_count": null,
   "id": "27d5f86b-8802-4eb8-9028-ab42bb04b702",
   "metadata": {},
   "outputs": [],
   "source": []
  }
 ],
 "metadata": {
  "kernelspec": {
   "display_name": "Python 3 (ipykernel)",
   "language": "python",
   "name": "python3"
  },
  "language_info": {
   "codemirror_mode": {
    "name": "ipython",
    "version": 3
   },
   "file_extension": ".py",
   "mimetype": "text/x-python",
   "name": "python",
   "nbconvert_exporter": "python",
   "pygments_lexer": "ipython3",
   "version": "3.11.7"
  }
 },
 "nbformat": 4,
 "nbformat_minor": 5
}
